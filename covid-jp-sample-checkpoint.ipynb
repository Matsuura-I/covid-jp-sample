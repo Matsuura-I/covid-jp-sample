{
 "cells": [
  {
   "cell_type": "code",
   "execution_count": 1,
   "metadata": {},
   "outputs": [],
   "source": [
    "import urllib\n",
    "import json\n",
    "import pandas as pd\n",
    "import seaborn as sns\n",
    "import matplotlib.pyplot as plt\n",
    "import numpy as np\n",
    "import io\n",
    "from dateutil.parser import parse\n",
    "from tqdm import tqdm, tqdm_notebook\n",
    "%matplotlib inline"
   ]
  },
  {
   "cell_type": "code",
   "execution_count": 2,
   "metadata": {},
   "outputs": [],
   "source": [
    "class Crowler():\n",
    "\n",
    "  def __init__(self):\n",
    "    self._ua = ' ** '\\\n",
    "      ' ** '\\\n",
    "      ' **'\n",
    "\n",
    "  def fetch(self, url):\n",
    "    req = urllib.request.Request(url, headers={'User-Agent': self._ua})\n",
    "    return urllib.request.urlopen(req)"
   ]
  },
  {
   "cell_type": "code",
   "execution_count": 3,
   "metadata": {},
   "outputs": [],
   "source": [
    "cr = Crowler()\n",
    "\n",
    "# 感染者\n",
    "url_infection = 'https://raw.githubusercontent.com/CSSEGISandData/COVID-19/master/csse_covid_19_data/csse_covid_19_time_series/time_series_covid19_confirmed_global.csv'\n",
    "\n",
    "# 死亡者\n",
    "url_deaths = 'https://raw.githubusercontent.com/CSSEGISandData/COVID-19/master/csse_covid_19_data/csse_covid_19_time_series/time_series_covid19_deaths_global.csv'\n",
    "\n",
    "# 治癒者\n",
    "url_recover = 'https://raw.githubusercontent.com/CSSEGISandData/COVID-19/master/csse_covid_19_data/csse_covid_19_time_series/time_series_covid19_recovered_global.csv'"
   ]
  },
  {
   "cell_type": "code",
   "execution_count": 4,
   "metadata": {},
   "outputs": [],
   "source": [
    "url_map = {'infection': url_infection,\n",
    "           'deaths': url_deaths,\n",
    "           'recover': url_recover}\n",
    "df_house = {}\n",
    "\n",
    "for _k, _url in url_map.items():\n",
    "    _body_csv = cr.fetch(_url)\n",
    "    df_house[_k] = pd.read_csv(_body_csv)"
   ]
  },
  {
   "cell_type": "code",
   "execution_count": 5,
   "metadata": {},
   "outputs": [
    {
     "data": {
      "text/html": [
       "<div>\n",
       "<style scoped>\n",
       "    .dataframe tbody tr th:only-of-type {\n",
       "        vertical-align: middle;\n",
       "    }\n",
       "\n",
       "    .dataframe tbody tr th {\n",
       "        vertical-align: top;\n",
       "    }\n",
       "\n",
       "    .dataframe thead th {\n",
       "        text-align: right;\n",
       "    }\n",
       "</style>\n",
       "<table border=\"1\" class=\"dataframe\">\n",
       "  <thead>\n",
       "    <tr style=\"text-align: right;\">\n",
       "      <th></th>\n",
       "      <th>Province/State</th>\n",
       "      <th>Country/Region</th>\n",
       "      <th>Lat</th>\n",
       "      <th>Long</th>\n",
       "      <th>1/22/20</th>\n",
       "      <th>1/23/20</th>\n",
       "      <th>1/24/20</th>\n",
       "      <th>1/25/20</th>\n",
       "      <th>1/26/20</th>\n",
       "      <th>1/27/20</th>\n",
       "      <th>...</th>\n",
       "      <th>8/6/20</th>\n",
       "      <th>8/7/20</th>\n",
       "      <th>8/8/20</th>\n",
       "      <th>8/9/20</th>\n",
       "      <th>8/10/20</th>\n",
       "      <th>8/11/20</th>\n",
       "      <th>8/12/20</th>\n",
       "      <th>8/13/20</th>\n",
       "      <th>8/14/20</th>\n",
       "      <th>8/15/20</th>\n",
       "    </tr>\n",
       "  </thead>\n",
       "  <tbody>\n",
       "    <tr>\n",
       "      <th>0</th>\n",
       "      <td>NaN</td>\n",
       "      <td>Afghanistan</td>\n",
       "      <td>33.93911</td>\n",
       "      <td>67.709953</td>\n",
       "      <td>0</td>\n",
       "      <td>0</td>\n",
       "      <td>0</td>\n",
       "      <td>0</td>\n",
       "      <td>0</td>\n",
       "      <td>0</td>\n",
       "      <td>...</td>\n",
       "      <td>36896</td>\n",
       "      <td>37015</td>\n",
       "      <td>37054</td>\n",
       "      <td>37054</td>\n",
       "      <td>37162</td>\n",
       "      <td>37269</td>\n",
       "      <td>37345</td>\n",
       "      <td>37424</td>\n",
       "      <td>37431</td>\n",
       "      <td>37551</td>\n",
       "    </tr>\n",
       "    <tr>\n",
       "      <th>1</th>\n",
       "      <td>NaN</td>\n",
       "      <td>Albania</td>\n",
       "      <td>41.15330</td>\n",
       "      <td>20.168300</td>\n",
       "      <td>0</td>\n",
       "      <td>0</td>\n",
       "      <td>0</td>\n",
       "      <td>0</td>\n",
       "      <td>0</td>\n",
       "      <td>0</td>\n",
       "      <td>...</td>\n",
       "      <td>6016</td>\n",
       "      <td>6151</td>\n",
       "      <td>6275</td>\n",
       "      <td>6411</td>\n",
       "      <td>6536</td>\n",
       "      <td>6676</td>\n",
       "      <td>6817</td>\n",
       "      <td>6971</td>\n",
       "      <td>7117</td>\n",
       "      <td>7260</td>\n",
       "    </tr>\n",
       "    <tr>\n",
       "      <th>2</th>\n",
       "      <td>NaN</td>\n",
       "      <td>Algeria</td>\n",
       "      <td>28.03390</td>\n",
       "      <td>1.659600</td>\n",
       "      <td>0</td>\n",
       "      <td>0</td>\n",
       "      <td>0</td>\n",
       "      <td>0</td>\n",
       "      <td>0</td>\n",
       "      <td>0</td>\n",
       "      <td>...</td>\n",
       "      <td>33626</td>\n",
       "      <td>34155</td>\n",
       "      <td>34693</td>\n",
       "      <td>35160</td>\n",
       "      <td>35712</td>\n",
       "      <td>36204</td>\n",
       "      <td>36699</td>\n",
       "      <td>37187</td>\n",
       "      <td>37664</td>\n",
       "      <td>38133</td>\n",
       "    </tr>\n",
       "    <tr>\n",
       "      <th>3</th>\n",
       "      <td>NaN</td>\n",
       "      <td>Andorra</td>\n",
       "      <td>42.50630</td>\n",
       "      <td>1.521800</td>\n",
       "      <td>0</td>\n",
       "      <td>0</td>\n",
       "      <td>0</td>\n",
       "      <td>0</td>\n",
       "      <td>0</td>\n",
       "      <td>0</td>\n",
       "      <td>...</td>\n",
       "      <td>944</td>\n",
       "      <td>955</td>\n",
       "      <td>955</td>\n",
       "      <td>955</td>\n",
       "      <td>963</td>\n",
       "      <td>963</td>\n",
       "      <td>977</td>\n",
       "      <td>981</td>\n",
       "      <td>989</td>\n",
       "      <td>989</td>\n",
       "    </tr>\n",
       "    <tr>\n",
       "      <th>4</th>\n",
       "      <td>NaN</td>\n",
       "      <td>Angola</td>\n",
       "      <td>-11.20270</td>\n",
       "      <td>17.873900</td>\n",
       "      <td>0</td>\n",
       "      <td>0</td>\n",
       "      <td>0</td>\n",
       "      <td>0</td>\n",
       "      <td>0</td>\n",
       "      <td>0</td>\n",
       "      <td>...</td>\n",
       "      <td>1483</td>\n",
       "      <td>1538</td>\n",
       "      <td>1572</td>\n",
       "      <td>1672</td>\n",
       "      <td>1679</td>\n",
       "      <td>1735</td>\n",
       "      <td>1762</td>\n",
       "      <td>1815</td>\n",
       "      <td>1852</td>\n",
       "      <td>1879</td>\n",
       "    </tr>\n",
       "  </tbody>\n",
       "</table>\n",
       "<p>5 rows × 211 columns</p>\n",
       "</div>"
      ],
      "text/plain": [
       "  Province/State Country/Region       Lat       Long  1/22/20  1/23/20  \\\n",
       "0            NaN    Afghanistan  33.93911  67.709953        0        0   \n",
       "1            NaN        Albania  41.15330  20.168300        0        0   \n",
       "2            NaN        Algeria  28.03390   1.659600        0        0   \n",
       "3            NaN        Andorra  42.50630   1.521800        0        0   \n",
       "4            NaN         Angola -11.20270  17.873900        0        0   \n",
       "\n",
       "   1/24/20  1/25/20  1/26/20  1/27/20  ...  8/6/20  8/7/20  8/8/20  8/9/20  \\\n",
       "0        0        0        0        0  ...   36896   37015   37054   37054   \n",
       "1        0        0        0        0  ...    6016    6151    6275    6411   \n",
       "2        0        0        0        0  ...   33626   34155   34693   35160   \n",
       "3        0        0        0        0  ...     944     955     955     955   \n",
       "4        0        0        0        0  ...    1483    1538    1572    1672   \n",
       "\n",
       "   8/10/20  8/11/20  8/12/20  8/13/20  8/14/20  8/15/20  \n",
       "0    37162    37269    37345    37424    37431    37551  \n",
       "1     6536     6676     6817     6971     7117     7260  \n",
       "2    35712    36204    36699    37187    37664    38133  \n",
       "3      963      963      977      981      989      989  \n",
       "4     1679     1735     1762     1815     1852     1879  \n",
       "\n",
       "[5 rows x 211 columns]"
      ]
     },
     "execution_count": 5,
     "metadata": {},
     "output_type": "execute_result"
    }
   ],
   "source": [
    "df_house['infection'].head()"
   ]
  },
  {
   "cell_type": "code",
   "execution_count": 6,
   "metadata": {},
   "outputs": [],
   "source": [
    "def transform_date(s):\n",
    "    \"\"\"\n",
    "    'mm/dd/yy' -> 'YYYY-mm-dd' \n",
    "    \"\"\"\n",
    "    _chunk = str(s).split('/')\n",
    "    return '20{year}-{month:02d}-{day:02d}'.format(year=_chunk[2], month=int(_chunk[0]), day=int(_chunk[1]))"
   ]
  },
  {
   "cell_type": "code",
   "execution_count": 7,
   "metadata": {},
   "outputs": [
    {
     "name": "stderr",
     "output_type": "stream",
     "text": [
      "100%|████████████████████████████████████████████████████████████████████████████████| 207/207 [00:11<00:00, 18.51it/s]\n",
      "100%|████████████████████████████████████████████████████████████████████████████████| 207/207 [00:10<00:00, 18.92it/s]\n",
      "100%|████████████████████████████████████████████████████████████████████████████████| 207/207 [00:10<00:00, 19.30it/s]\n"
     ]
    }
   ],
   "source": [
    "df_buffer_house = {}\n",
    "for _k, _df in df_house.items():\n",
    "    df_buffer_house[_k] = {'Province/State':[], \n",
    "                           'Country/Region':[],\n",
    "                           'date': [],\n",
    "                           _k: []}\n",
    "    _col_dates = _df.columns[4:]\n",
    "    for _k_date in tqdm(_col_dates):\n",
    "        for _idx, _r in _df.iterrows():\n",
    "            df_buffer_house[_k]['Province/State'].append(_r['Province/State'])\n",
    "            df_buffer_house[_k]['Country/Region'].append(_r['Country/Region'])\n",
    "            df_buffer_house[_k]['date'].append(transform_date(_k_date))\n",
    "            df_buffer_house[_k][_k].append(_r[_k_date])"
   ]
  },
  {
   "cell_type": "code",
   "execution_count": 8,
   "metadata": {},
   "outputs": [
    {
     "name": "stderr",
     "output_type": "stream",
     "text": [
      "100%|██████████████████████████████████████████████████████████████████████████| 38916/38916 [00:10<00:00, 3550.28it/s]\n",
      "100%|██████████████████████████████████████████████████████████████████████████| 38916/38916 [00:11<00:00, 3490.78it/s]\n",
      "100%|██████████████████████████████████████████████████████████████████████████| 38916/38916 [00:11<00:00, 3533.93it/s]\n"
     ]
    }
   ],
   "source": [
    "df_integrated = pd.DataFrame()\n",
    "col_integrated = ['Country/Region', 'date']\n",
    "df_chunk = {}\n",
    "for _k, _df_dict in df_buffer_house.items():\n",
    "    _df_raw = pd.DataFrame.from_dict(_df_dict)\n",
    "    \n",
    "    _df_grouped_buffer = {'Country/Region':[], 'date':[] , _k:[]}\n",
    "    for _idx, _grp in tqdm(_df_raw.groupby(col_integrated)):\n",
    "        _df_grouped_buffer['Country/Region'].append(_idx[0])\n",
    "        _df_grouped_buffer['date'].append(_idx[1])\n",
    "        _df_grouped_buffer[_k].append(_grp[_k].sum())\n",
    "    df_chunk[_k] = pd.DataFrame.from_dict(_df_grouped_buffer)    \n",
    "\n",
    "df_integrated = df_chunk['infection'].merge(df_chunk['deaths'], on=col_integrated, how='outer')\n",
    "df_integrated = df_integrated.merge(df_chunk['recover'], on=col_integrated, how='left')"
   ]
  },
  {
   "cell_type": "code",
   "execution_count": 9,
   "metadata": {},
   "outputs": [
    {
     "data": {
      "text/html": [
       "<div>\n",
       "<style scoped>\n",
       "    .dataframe tbody tr th:only-of-type {\n",
       "        vertical-align: middle;\n",
       "    }\n",
       "\n",
       "    .dataframe tbody tr th {\n",
       "        vertical-align: top;\n",
       "    }\n",
       "\n",
       "    .dataframe thead th {\n",
       "        text-align: right;\n",
       "    }\n",
       "</style>\n",
       "<table border=\"1\" class=\"dataframe\">\n",
       "  <thead>\n",
       "    <tr style=\"text-align: right;\">\n",
       "      <th></th>\n",
       "      <th>Country/Region</th>\n",
       "      <th>date</th>\n",
       "      <th>infection</th>\n",
       "      <th>deaths</th>\n",
       "      <th>recover</th>\n",
       "    </tr>\n",
       "  </thead>\n",
       "  <tbody>\n",
       "    <tr>\n",
       "      <th>6624</th>\n",
       "      <td>Canada</td>\n",
       "      <td>2020-01-22</td>\n",
       "      <td>0</td>\n",
       "      <td>0</td>\n",
       "      <td>0</td>\n",
       "    </tr>\n",
       "    <tr>\n",
       "      <th>6625</th>\n",
       "      <td>Canada</td>\n",
       "      <td>2020-01-23</td>\n",
       "      <td>0</td>\n",
       "      <td>0</td>\n",
       "      <td>0</td>\n",
       "    </tr>\n",
       "    <tr>\n",
       "      <th>6626</th>\n",
       "      <td>Canada</td>\n",
       "      <td>2020-01-24</td>\n",
       "      <td>0</td>\n",
       "      <td>0</td>\n",
       "      <td>0</td>\n",
       "    </tr>\n",
       "    <tr>\n",
       "      <th>6627</th>\n",
       "      <td>Canada</td>\n",
       "      <td>2020-01-25</td>\n",
       "      <td>0</td>\n",
       "      <td>0</td>\n",
       "      <td>0</td>\n",
       "    </tr>\n",
       "    <tr>\n",
       "      <th>6628</th>\n",
       "      <td>Canada</td>\n",
       "      <td>2020-01-26</td>\n",
       "      <td>1</td>\n",
       "      <td>0</td>\n",
       "      <td>0</td>\n",
       "    </tr>\n",
       "    <tr>\n",
       "      <th>...</th>\n",
       "      <td>...</td>\n",
       "      <td>...</td>\n",
       "      <td>...</td>\n",
       "      <td>...</td>\n",
       "      <td>...</td>\n",
       "    </tr>\n",
       "    <tr>\n",
       "      <th>6826</th>\n",
       "      <td>Canada</td>\n",
       "      <td>2020-08-11</td>\n",
       "      <td>122389</td>\n",
       "      <td>9038</td>\n",
       "      <td>108465</td>\n",
       "    </tr>\n",
       "    <tr>\n",
       "      <th>6827</th>\n",
       "      <td>Canada</td>\n",
       "      <td>2020-08-12</td>\n",
       "      <td>122703</td>\n",
       "      <td>9052</td>\n",
       "      <td>108829</td>\n",
       "    </tr>\n",
       "    <tr>\n",
       "      <th>6828</th>\n",
       "      <td>Canada</td>\n",
       "      <td>2020-08-13</td>\n",
       "      <td>123180</td>\n",
       "      <td>9063</td>\n",
       "      <td>109260</td>\n",
       "    </tr>\n",
       "    <tr>\n",
       "      <th>6829</th>\n",
       "      <td>Canada</td>\n",
       "      <td>2020-08-14</td>\n",
       "      <td>123605</td>\n",
       "      <td>9068</td>\n",
       "      <td>109657</td>\n",
       "    </tr>\n",
       "    <tr>\n",
       "      <th>6830</th>\n",
       "      <td>Canada</td>\n",
       "      <td>2020-08-15</td>\n",
       "      <td>123825</td>\n",
       "      <td>9072</td>\n",
       "      <td>109933</td>\n",
       "    </tr>\n",
       "  </tbody>\n",
       "</table>\n",
       "<p>207 rows × 5 columns</p>\n",
       "</div>"
      ],
      "text/plain": [
       "     Country/Region        date  infection  deaths  recover\n",
       "6624         Canada  2020-01-22          0       0        0\n",
       "6625         Canada  2020-01-23          0       0        0\n",
       "6626         Canada  2020-01-24          0       0        0\n",
       "6627         Canada  2020-01-25          0       0        0\n",
       "6628         Canada  2020-01-26          1       0        0\n",
       "...             ...         ...        ...     ...      ...\n",
       "6826         Canada  2020-08-11     122389    9038   108465\n",
       "6827         Canada  2020-08-12     122703    9052   108829\n",
       "6828         Canada  2020-08-13     123180    9063   109260\n",
       "6829         Canada  2020-08-14     123605    9068   109657\n",
       "6830         Canada  2020-08-15     123825    9072   109933\n",
       "\n",
       "[207 rows x 5 columns]"
      ]
     },
     "execution_count": 9,
     "metadata": {},
     "output_type": "execute_result"
    }
   ],
   "source": [
    "df_integrated[df_integrated['Country/Region']=='Canada']"
   ]
  },
  {
   "cell_type": "markdown",
   "metadata": {},
   "source": [
    "**処理後のデータを使った分析**"
   ]
  },
  {
   "cell_type": "code",
   "execution_count": 10,
   "metadata": {},
   "outputs": [],
   "source": [
    "df_grouped = df_integrated\n",
    "df_grouped['date'] = pd.to_datetime(df_grouped['date'])\n",
    "\n",
    "df_grouped['rescue_ratio'] = df_grouped['recover']/(df_grouped['recover'] + df_grouped['deaths'])\n",
    "df_grouped['rescue_ratio'] = df_grouped['rescue_ratio'].fillna(0)\n",
    "\n",
    "df_grouped['phase_position'] = (df_grouped['recover'] + df_grouped['deaths'])/df_grouped['infection']"
   ]
  },
  {
   "cell_type": "code",
   "execution_count": 11,
   "metadata": {},
   "outputs": [
    {
     "data": {
      "text/plain": [
       "Index(['Country/Region', 'date', 'infection', 'deaths', 'recover',\n",
       "       'rescue_ratio', 'phase_position'],\n",
       "      dtype='object')"
      ]
     },
     "execution_count": 11,
     "metadata": {},
     "output_type": "execute_result"
    }
   ],
   "source": [
    "df_grouped.columns"
   ]
  },
  {
   "cell_type": "code",
   "execution_count": 12,
   "metadata": {},
   "outputs": [
    {
     "data": {
      "text/plain": [
       "Malawi            207\n",
       "Mali              207\n",
       "Ukraine           207\n",
       "Mauritius         207\n",
       "Ireland           207\n",
       "                 ... \n",
       "Spain             207\n",
       "Gambia            207\n",
       "Cabo Verde        207\n",
       "Portugal          207\n",
       "Western Sahara    207\n",
       "Name: Country/Region, Length: 188, dtype: int64"
      ]
     },
     "execution_count": 12,
     "metadata": {},
     "output_type": "execute_result"
    }
   ],
   "source": [
    "df_grouped['Country/Region'].value_counts()"
   ]
  },
  {
   "cell_type": "code",
   "execution_count": 13,
   "metadata": {},
   "outputs": [],
   "source": [
    "df_JP = df_grouped[df_grouped['Country/Region']==\"Japan\"]"
   ]
  },
  {
   "cell_type": "code",
   "execution_count": 14,
   "metadata": {},
   "outputs": [
    {
     "data": {
      "text/html": [
       "<div>\n",
       "<style scoped>\n",
       "    .dataframe tbody tr th:only-of-type {\n",
       "        vertical-align: middle;\n",
       "    }\n",
       "\n",
       "    .dataframe tbody tr th {\n",
       "        vertical-align: top;\n",
       "    }\n",
       "\n",
       "    .dataframe thead th {\n",
       "        text-align: right;\n",
       "    }\n",
       "</style>\n",
       "<table border=\"1\" class=\"dataframe\">\n",
       "  <thead>\n",
       "    <tr style=\"text-align: right;\">\n",
       "      <th></th>\n",
       "      <th>date</th>\n",
       "      <th>infection</th>\n",
       "      <th>deaths</th>\n",
       "      <th>recover</th>\n",
       "      <th>rescue_ratio</th>\n",
       "      <th>phase_position</th>\n",
       "    </tr>\n",
       "  </thead>\n",
       "  <tbody>\n",
       "    <tr>\n",
       "      <th>18009</th>\n",
       "      <td>2020-01-22</td>\n",
       "      <td>2</td>\n",
       "      <td>0</td>\n",
       "      <td>0</td>\n",
       "      <td>0.0</td>\n",
       "      <td>0.00</td>\n",
       "    </tr>\n",
       "    <tr>\n",
       "      <th>18010</th>\n",
       "      <td>2020-01-23</td>\n",
       "      <td>2</td>\n",
       "      <td>0</td>\n",
       "      <td>0</td>\n",
       "      <td>0.0</td>\n",
       "      <td>0.00</td>\n",
       "    </tr>\n",
       "    <tr>\n",
       "      <th>18011</th>\n",
       "      <td>2020-01-24</td>\n",
       "      <td>2</td>\n",
       "      <td>0</td>\n",
       "      <td>0</td>\n",
       "      <td>0.0</td>\n",
       "      <td>0.00</td>\n",
       "    </tr>\n",
       "    <tr>\n",
       "      <th>18012</th>\n",
       "      <td>2020-01-25</td>\n",
       "      <td>2</td>\n",
       "      <td>0</td>\n",
       "      <td>0</td>\n",
       "      <td>0.0</td>\n",
       "      <td>0.00</td>\n",
       "    </tr>\n",
       "    <tr>\n",
       "      <th>18013</th>\n",
       "      <td>2020-01-26</td>\n",
       "      <td>4</td>\n",
       "      <td>0</td>\n",
       "      <td>1</td>\n",
       "      <td>1.0</td>\n",
       "      <td>0.25</td>\n",
       "    </tr>\n",
       "  </tbody>\n",
       "</table>\n",
       "</div>"
      ],
      "text/plain": [
       "            date  infection  deaths  recover  rescue_ratio  phase_position\n",
       "18009 2020-01-22          2       0        0           0.0            0.00\n",
       "18010 2020-01-23          2       0        0           0.0            0.00\n",
       "18011 2020-01-24          2       0        0           0.0            0.00\n",
       "18012 2020-01-25          2       0        0           0.0            0.00\n",
       "18013 2020-01-26          4       0        1           1.0            0.25"
      ]
     },
     "execution_count": 14,
     "metadata": {},
     "output_type": "execute_result"
    }
   ],
   "source": [
    "df_JP = df_JP.drop(\"Country/Region\",axis=1)\n",
    "df_JP.head()"
   ]
  },
  {
   "cell_type": "code",
   "execution_count": 15,
   "metadata": {},
   "outputs": [
    {
     "data": {
      "text/plain": [
       "Text(0, 0.5, 'phase_position')"
      ]
     },
     "execution_count": 15,
     "metadata": {},
     "output_type": "execute_result"
    },
    {
     "data": {
      "image/png": "[encoded data removed]",
      "text/plain": [
       "<Figure size 1152x288 with 1 Axes>"
      ]
     },
     "metadata": {},
     "output_type": "display_data"
    },
    {
     "data": {
      "image/png": "[encoded data removed]",
      "text/plain": [
       "<Figure size 1152x288 with 1 Axes>"
      ]
     },
     "metadata": {},
     "output_type": "display_data"
    }
   ],
   "source": [
    "plt.style.use('ggplot') \n",
    "df_JP.plot(x ='date', y =['infection','deaths', 'recover',],figsize=(16,4))#marker='o'fection\n",
    "\n",
    "plt.title('Japan')\n",
    "plt.xlabel(\"month\")\n",
    "plt.ylabel(\"people\")\n",
    "\n",
    "df_JP.plot(x ='date', y =['phase_position'],figsize=(16,4))\n",
    "plt.xlabel(\"month\")\n",
    "plt.ylabel('phase_position')"
   ]
  },
  {
   "cell_type": "code",
   "execution_count": null,
   "metadata": {},
   "outputs": [],
   "source": []
  }
 ],
 "metadata": {
  "kernelspec": {
   "display_name": "Python 3",
   "language": "python",
   "name": "python3"
  },
  "language_info": {
   "codemirror_mode": {
    "name": "ipython",
    "version": 3
   },
   "file_extension": ".py",
   "mimetype": "text/x-python",
   "name": "python",
   "nbconvert_exporter": "python",
   "pygments_lexer": "ipython3",
   "version": "3.7.7"
  }
 },
 "nbformat": 4,
 "nbformat_minor": 4
}
